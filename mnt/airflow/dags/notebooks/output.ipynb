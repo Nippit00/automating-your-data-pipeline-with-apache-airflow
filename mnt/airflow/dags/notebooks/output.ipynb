{
 "cells": [
  {
   "cell_type": "code",
   "execution_count": 1,
   "id": "ad743665",
   "metadata": {
    "execution": {
     "iopub.execute_input": "2021-09-07T15:15:04.699123Z",
     "iopub.status.busy": "2021-09-07T15:15:04.698308Z",
     "iopub.status.idle": "2021-09-07T15:15:04.706425Z",
     "shell.execute_reply": "2021-09-07T15:15:04.705321Z"
    },
    "jupyter": {
     "source_hidden": true
    },
    "papermill": {
     "duration": 0.033547,
     "end_time": "2021-09-07T15:15:04.706580",
     "exception": false,
     "start_time": "2021-09-07T15:15:04.673033",
     "status": "completed"
    },
    "tags": [
     "parameters"
    ]
   },
   "outputs": [],
   "source": [
    "name = 'Kan'\n",
    "x = 10\n",
    "y = 5"
   ]
  },
  {
   "cell_type": "code",
   "execution_count": 2,
   "id": "bef7edfb",
   "metadata": {
    "execution": {
     "iopub.execute_input": "2021-09-07T15:15:04.736191Z",
     "iopub.status.busy": "2021-09-07T15:15:04.735468Z",
     "iopub.status.idle": "2021-09-07T15:15:04.740051Z",
     "shell.execute_reply": "2021-09-07T15:15:04.740681Z"
    },
    "jupyter": {
     "source_hidden": true
    },
    "papermill": {
     "duration": 0.024885,
     "end_time": "2021-09-07T15:15:04.740816",
     "exception": false,
     "start_time": "2021-09-07T15:15:04.715931",
     "status": "completed"
    },
    "tags": [
     "injected-parameters"
    ]
   },
   "outputs": [],
   "source": [
    "# Parameters\n",
    "name = \"ODDS\"\n",
    "x = 0.1\n",
    "y = 10\n"
   ]
  },
  {
   "cell_type": "code",
   "execution_count": 3,
   "id": "66090cae",
   "metadata": {
    "execution": {
     "iopub.execute_input": "2021-09-07T15:15:04.770005Z",
     "iopub.status.busy": "2021-09-07T15:15:04.768779Z",
     "iopub.status.idle": "2021-09-07T15:15:04.776259Z",
     "shell.execute_reply": "2021-09-07T15:15:04.775321Z"
    },
    "jupyter": {
     "source_hidden": true
    },
    "papermill": {
     "duration": 0.026548,
     "end_time": "2021-09-07T15:15:04.776464",
     "exception": false,
     "start_time": "2021-09-07T15:15:04.749916",
     "status": "completed"
    },
    "tags": []
   },
   "outputs": [
    {
     "name": "stdout",
     "output_type": "stream",
     "text": [
      "ODDS\n"
     ]
    }
   ],
   "source": [
    "print(name)"
   ]
  },
  {
   "cell_type": "code",
   "execution_count": 4,
   "id": "5dafb915",
   "metadata": {
    "execution": {
     "iopub.execute_input": "2021-09-07T15:15:04.804092Z",
     "iopub.status.busy": "2021-09-07T15:15:04.802639Z",
     "iopub.status.idle": "2021-09-07T15:15:04.807995Z",
     "shell.execute_reply": "2021-09-07T15:15:04.807382Z"
    },
    "jupyter": {
     "source_hidden": true
    },
    "papermill": {
     "duration": 0.021502,
     "end_time": "2021-09-07T15:15:04.808111",
     "exception": false,
     "start_time": "2021-09-07T15:15:04.786609",
     "status": "completed"
    },
    "tags": []
   },
   "outputs": [],
   "source": [
    "def add(x, y):\n",
    "    return x + y"
   ]
  },
  {
   "cell_type": "code",
   "execution_count": 5,
   "id": "b29bb1db",
   "metadata": {
    "execution": {
     "iopub.execute_input": "2021-09-07T15:15:04.844116Z",
     "iopub.status.busy": "2021-09-07T15:15:04.843481Z",
     "iopub.status.idle": "2021-09-07T15:15:04.872630Z",
     "shell.execute_reply": "2021-09-07T15:15:04.871111Z"
    },
    "jupyter": {
     "source_hidden": true
    },
    "papermill": {
     "duration": 0.056259,
     "end_time": "2021-09-07T15:15:04.872980",
     "exception": false,
     "start_time": "2021-09-07T15:15:04.816721",
     "status": "completed"
    },
    "tags": []
   },
   "outputs": [
    {
     "data": {
      "text/plain": [
       "10.1"
      ]
     },
     "execution_count": 5,
     "metadata": {},
     "output_type": "execute_result"
    }
   ],
   "source": [
    "add(x, y)"
   ]
  },
  {
   "cell_type": "code",
   "execution_count": null,
   "id": "ecb91b18",
   "metadata": {
    "jupyter": {
     "source_hidden": true
    },
    "papermill": {
     "duration": 0.024661,
     "end_time": "2021-09-07T15:15:04.914359",
     "exception": false,
     "start_time": "2021-09-07T15:15:04.889698",
     "status": "completed"
    },
    "tags": []
   },
   "outputs": [],
   "source": []
  }
 ],
 "metadata": {
  "celltoolbar": "Tags",
  "kernelspec": {
   "display_name": "Python 3",
   "language": "python",
   "name": "python3"
  },
  "language_info": {
   "codemirror_mode": {
    "name": "ipython",
    "version": 3
   },
   "file_extension": ".py",
   "mimetype": "text/x-python",
   "name": "python",
   "nbconvert_exporter": "python",
   "pygments_lexer": "ipython3",
   "version": "3.7.3"
  },
  "papermill": {
   "default_parameters": {},
   "duration": 1.911906,
   "end_time": "2021-09-07T15:15:05.060407",
   "environment_variables": {},
   "exception": null,
   "input_path": "/usr/local/airflow/dags/notebooks/input.ipynb",
   "output_path": "/usr/local/airflow/dags/notebooks/output.ipynb",
   "parameters": {
    "name": "ODDS",
    "x": 0.1,
    "y": 10
   },
   "start_time": "2021-09-07T15:15:03.148501",
   "version": "2.3.3"
  }
 },
 "nbformat": 4,
 "nbformat_minor": 5
}